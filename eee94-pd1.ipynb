{
 "cells": [
  {
   "cell_type": "code",
   "execution_count": 2,
   "id": "b9d52b78",
   "metadata": {},
   "outputs": [
    {
     "name": "stdout",
     "output_type": "stream",
     "text": [
      "Empty DataFrame\n",
      "Columns: []\n",
      "Index: []\n",
      "       Emp   ID\n",
      "0   Parker  102\n",
      "1     John  107\n",
      "2    Smith  109\n",
      "3  William  114\n"
     ]
    }
   ],
   "source": [
    "import pandas as pd\n",
    "df = pd.DataFrame()\n",
    "print(df)\n",
    "emp = pd.Series(['Parker', 'John', 'Smith', 'William'])\n",
    "id = pd.Series([102,107,109,114])\n",
    "frame = {'Emp': emp, 'ID': id}\n",
    "result = pd.DataFrame(frame)\n",
    "print(result)"
   ]
  },
  {
   "cell_type": "code",
   "execution_count": 3,
   "id": "6ee304bb",
   "metadata": {},
   "outputs": [
    {
     "name": "stdout",
     "output_type": "stream",
     "text": [
      "       Emp   ID  Age\n",
      "0   Parker  102   35\n",
      "1     John  107   24\n",
      "2    Smith  109   40\n",
      "3  William  114   38\n"
     ]
    }
   ],
   "source": [
    "result['Age'] = pd.Series([35,24,40,38])\n",
    "print(result)"
   ]
  },
  {
   "cell_type": "code",
   "execution_count": 4,
   "id": "f6a2cddd",
   "metadata": {},
   "outputs": [
    {
     "name": "stdout",
     "output_type": "stream",
     "text": [
      "       Emp  Age\n",
      "0   Parker   35\n",
      "1     John   24\n",
      "2    Smith   40\n",
      "3  William   38\n"
     ]
    }
   ],
   "source": [
    "del result['ID']\n",
    "print(result)"
   ]
  },
  {
   "cell_type": "code",
   "execution_count": 6,
   "id": "dfa11d76",
   "metadata": {},
   "outputs": [
    {
     "name": "stdout",
     "output_type": "stream",
     "text": [
      "Emp    John\n",
      "Age      24\n",
      "Name: 1, dtype: object\n"
     ]
    }
   ],
   "source": [
    "print(result.loc[1])"
   ]
  },
  {
   "cell_type": "code",
   "execution_count": 7,
   "id": "33e11bfe",
   "metadata": {},
   "outputs": [
    {
     "name": "stdout",
     "output_type": "stream",
     "text": [
      "Slicing rows\n",
      "     Emp  Age\n",
      "1  John   24\n"
     ]
    }
   ],
   "source": [
    "print(\"Slicing rows\\n\", result[1:2])"
   ]
  },
  {
   "cell_type": "code",
   "execution_count": 9,
   "id": "e5645738",
   "metadata": {},
   "outputs": [
    {
     "name": "stdout",
     "output_type": "stream",
     "text": [
      "       Emp  Age\n",
      "0   Parker   35\n",
      "1     John   24\n",
      "2    Smith   40\n",
      "3  William   38\n",
      "0     Dale  123\n",
      "1     Mark  143\n"
     ]
    },
    {
     "name": "stderr",
     "output_type": "stream",
     "text": [
      "C:\\Users\\Tcs\\AppData\\Local\\Temp\\ipykernel_6416\\356705569.py:2: FutureWarning: The frame.append method is deprecated and will be removed from pandas in a future version. Use pandas.concat instead.\n",
      "  print(result.append(d2))\n"
     ]
    }
   ],
   "source": [
    "d2 = pd.DataFrame([['Dale',123], ['Mark',143]], columns = ['Emp','Age'])\n",
    "print(result.append(d2))"
   ]
  },
  {
   "cell_type": "code",
   "execution_count": 10,
   "id": "861fcca4",
   "metadata": {},
   "outputs": [
    {
     "name": "stdout",
     "output_type": "stream",
     "text": [
      "       Emp  Age\n",
      "0   Parker   35\n",
      "2    Smith   40\n",
      "3  William   38\n"
     ]
    }
   ],
   "source": [
    "print(result.drop(1))"
   ]
  },
  {
   "cell_type": "code",
   "execution_count": null,
   "id": "4b26177c",
   "metadata": {},
   "outputs": [],
   "source": []
  }
 ],
 "metadata": {
  "kernelspec": {
   "display_name": "Python 3 (ipykernel)",
   "language": "python",
   "name": "python3"
  },
  "language_info": {
   "codemirror_mode": {
    "name": "ipython",
    "version": 3
   },
   "file_extension": ".py",
   "mimetype": "text/x-python",
   "name": "python",
   "nbconvert_exporter": "python",
   "pygments_lexer": "ipython3",
   "version": "3.9.12"
  }
 },
 "nbformat": 4,
 "nbformat_minor": 5
}
