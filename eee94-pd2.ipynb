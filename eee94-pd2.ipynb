{
 "cells": [
  {
   "cell_type": "code",
   "execution_count": 3,
   "id": "5e284180",
   "metadata": {},
   "outputs": [
    {
     "name": "stdout",
     "output_type": "stream",
     "text": [
      "   P  Q\n",
      "0  2  7\n",
      "1  2  7\n",
      "2  2  7\n"
     ]
    }
   ],
   "source": [
    "import pandas as pd\n",
    "import numpy as np\n",
    "info = pd.DataFrame([[2,7]]*3, columns = ['P','Q'])\n",
    "print(info)"
   ]
  },
  {
   "cell_type": "code",
   "execution_count": 4,
   "id": "db6c68f4",
   "metadata": {},
   "outputs": [
    {
     "name": "stdout",
     "output_type": "stream",
     "text": [
      "P     6\n",
      "Q    21\n",
      "dtype: int64\n"
     ]
    }
   ],
   "source": [
    "print(info.apply(np.sum, axis = 0))"
   ]
  },
  {
   "cell_type": "code",
   "execution_count": 5,
   "id": "c729dc2b",
   "metadata": {},
   "outputs": [
    {
     "name": "stdout",
     "output_type": "stream",
     "text": [
      "0    9\n",
      "1    9\n",
      "2    9\n",
      "dtype: int64\n"
     ]
    }
   ],
   "source": [
    "print(info.apply(np.sum, axis = 1))"
   ]
  },
  {
   "cell_type": "code",
   "execution_count": 6,
   "id": "d6d82ee9",
   "metadata": {},
   "outputs": [
    {
     "name": "stdout",
     "output_type": "stream",
     "text": [
      "          P         Q\n",
      "0  1.414214  2.645751\n",
      "1  1.414214  2.645751\n",
      "2  1.414214  2.645751\n"
     ]
    }
   ],
   "source": [
    "print(info.apply(np.sqrt))"
   ]
  },
  {
   "cell_type": "code",
   "execution_count": 8,
   "id": "550dcbe9",
   "metadata": {},
   "outputs": [
    {
     "name": "stdout",
     "output_type": "stream",
     "text": [
      "     X  Y  Z\n",
      "min  1  5  7\n",
      "max  3  7  9\n"
     ]
    }
   ],
   "source": [
    "info = pd.DataFrame([[1,5,7],[2,7,8],[3,6,9]],columns = ['X','Y','Z'])\n",
    "print(info.agg(['min','max']))"
   ]
  },
  {
   "cell_type": "code",
   "execution_count": 10,
   "id": "269817c3",
   "metadata": {},
   "outputs": [
    {
     "name": "stdout",
     "output_type": "stream",
     "text": [
      "    Emp   ID\n",
      "0  Dale  123\n",
      "1  Mark  143\n",
      "    Emp   ID  Age\n",
      "0  Dale  123   35\n",
      "1  Mark  143   40\n",
      "    Emp   ID  Age   Sex\n",
      "0  Dale  123   35  Male\n",
      "1  Mark  143   40  Male\n"
     ]
    }
   ],
   "source": [
    "d2  = pd.DataFrame([['Dale',123],['Mark' ,143]],columns = ['Emp',\n",
    "                                                          'ID'])\n",
    "print(d2)\n",
    "d2['Age'] = [35,40]\n",
    "print(d2)\n",
    "d  = d2.assign(Sex = ['Male','Male'])\n",
    "print(d)"
   ]
  },
  {
   "cell_type": "code",
   "execution_count": 15,
   "id": "afd5831a",
   "metadata": {},
   "outputs": [
    {
     "name": "stdout",
     "output_type": "stream",
     "text": [
      "       col3      col4\n",
      "3 -2.053796 -0.545331\n",
      "2 -1.053373  1.271054\n",
      "0 -0.546001  0.104741\n",
      "4  1.556728 -0.137387\n",
      "1  0.678334 -0.351694\n"
     ]
    }
   ],
   "source": [
    "info = pd.DataFrame(np.random.randn(5,2), index = [3,2,0,4,1], columns = ['col3','col4'])\n",
    "print(info)"
   ]
  },
  {
   "cell_type": "code",
   "execution_count": 17,
   "id": "fce030e4",
   "metadata": {},
   "outputs": [
    {
     "name": "stdout",
     "output_type": "stream",
     "text": [
      "       col3      col4\n",
      "0 -0.546001  0.104741\n",
      "1  0.678334 -0.351694\n",
      "2 -1.053373  1.271054\n",
      "3 -2.053796 -0.545331\n",
      "4  1.556728 -0.137387\n"
     ]
    }
   ],
   "source": [
    "info2 = info.sort_index()\n",
    "#info3 = info.sort_value(by = 'col3')\n",
    "print(info2)"
   ]
  },
  {
   "cell_type": "code",
   "execution_count": 18,
   "id": "4a3c5f68",
   "metadata": {},
   "outputs": [
    {
     "name": "stdout",
     "output_type": "stream",
     "text": [
      "   id    Name   sub\n",
      "0   1    Alex  sub1\n",
      "1   2     Amy  sub2\n",
      "2   3   Allen  sub4\n",
      "3   4   Alice  sub6\n",
      "4   5  Ayoung  sub7\n"
     ]
    }
   ],
   "source": [
    "left = pd.DataFrame({'id': [1,2,3,4,5], 'Name': ['Alex', 'Amy', 'Allen', 'Alice', 'Ayoung'], 'sub': ['sub1', 'sub2', 'sub4', 'sub6', 'sub7']})\n",
    "print(left)"
   ]
  },
  {
   "cell_type": "code",
   "execution_count": 19,
   "id": "9d078dc2",
   "metadata": {},
   "outputs": [
    {
     "name": "stdout",
     "output_type": "stream",
     "text": [
      "   id   Name   sub\n",
      "0   1  Billy  sub2\n",
      "1   2  Brian  sub4\n",
      "2   3   Bran  sub3\n",
      "3   4  Bryce  sub6\n",
      "4   5  Betty  sub5\n"
     ]
    }
   ],
   "source": [
    "right = pd.DataFrame({'id': [1,2,3,4,5], 'Name': ['Billy', 'Brian', 'Bran', \n",
    "                                                 'Bryce', 'Betty'], 'sub': ['sub2', 'sub4', 'sub3', 'sub6', 'sub5']})\n",
    "print(right)"
   ]
  },
  {
   "cell_type": "code",
   "execution_count": 20,
   "id": "3fc44bae",
   "metadata": {},
   "outputs": [
    {
     "name": "stdout",
     "output_type": "stream",
     "text": [
      "   id  Name_x sub_x Name_y sub_y\n",
      "0   1    Alex  sub1  Billy  sub2\n",
      "1   2     Amy  sub2  Brian  sub4\n",
      "2   3   Allen  sub4   Bran  sub3\n",
      "3   4   Alice  sub6  Bryce  sub6\n",
      "4   5  Ayoung  sub7  Betty  sub5\n"
     ]
    }
   ],
   "source": [
    "print(pd.merge(left,right, on = 'id'))"
   ]
  },
  {
   "cell_type": "code",
   "execution_count": null,
   "id": "6102909f",
   "metadata": {},
   "outputs": [],
   "source": []
  }
 ],
 "metadata": {
  "kernelspec": {
   "display_name": "Python 3 (ipykernel)",
   "language": "python",
   "name": "python3"
  },
  "language_info": {
   "codemirror_mode": {
    "name": "ipython",
    "version": 3
   },
   "file_extension": ".py",
   "mimetype": "text/x-python",
   "name": "python",
   "nbconvert_exporter": "python",
   "pygments_lexer": "ipython3",
   "version": "3.9.12"
  }
 },
 "nbformat": 4,
 "nbformat_minor": 5
}
