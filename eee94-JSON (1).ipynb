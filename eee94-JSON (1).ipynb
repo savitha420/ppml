{
 "cells": [
  {
   "cell_type": "code",
   "execution_count": 23,
   "id": "dee926d1",
   "metadata": {},
   "outputs": [],
   "source": [
    "f = open(\"D:/Textfile.txt\",'w')\n"
   ]
  },
  {
   "cell_type": "code",
   "execution_count": 24,
   "id": "a358459d",
   "metadata": {},
   "outputs": [],
   "source": [
    "f.write(\"first line\\n\")\n",
    "f.write(\"second line\\n\")\n",
    "f.write(\"third line\\n\")\n",
    "f.close()"
   ]
  },
  {
   "cell_type": "code",
   "execution_count": 26,
   "id": "debddbb2",
   "metadata": {},
   "outputs": [
    {
     "name": "stdout",
     "output_type": "stream",
     "text": [
      "first line\n",
      "\n",
      "second line\n",
      "\n",
      "third line\n",
      "\n"
     ]
    }
   ],
   "source": [
    "k = open(\"D:/Textfile.txt\",'r')\n",
    "print(k.readline())\n",
    "print(k.readline())\n",
    "print(k.readline())\n",
    "k.close()\n",
    "\n",
    "\n",
    "\n"
   ]
  },
  {
   "cell_type": "code",
   "execution_count": 30,
   "id": "b1e39972",
   "metadata": {},
   "outputs": [],
   "source": [
    "m = open(\"D:/Textfile.txt\",'a')\n",
    "m.write(\"fourth line\\n\")\n",
    "m.write(\"fifth line\\n\")\n",
    "m.close()"
   ]
  },
  {
   "cell_type": "code",
   "execution_count": 36,
   "id": "6724adae",
   "metadata": {},
   "outputs": [
    {
     "name": "stdout",
     "output_type": "stream",
     "text": [
      "first line\n",
      "second line\n",
      "third line\n",
      "fourth line\n",
      "fifth line\n",
      "fourth line\n",
      "fifth line\n",
      "fourth line\n",
      "fifth line\n",
      "fourth line\n",
      "fifth line\n",
      "\n"
     ]
    }
   ],
   "source": [
    "p = open(\"D:/Textfile.txt\",'r')\n",
    "print(p.read())\n",
    "p.close()"
   ]
  },
  {
   "cell_type": "code",
   "execution_count": 32,
   "id": "5bbb2e14",
   "metadata": {},
   "outputs": [
    {
     "name": "stdout",
     "output_type": "stream",
     "text": [
      "['first line\\n', 'second line\\n', 'third line\\n', 'fourth line\\n', 'fifth line\\n', 'fourth line\\n', 'fifth line\\n', 'fourth line\\n', 'fifth line\\n', 'fourth line\\n', 'fifth line\\n']\n"
     ]
    }
   ],
   "source": [
    "with open(\"D:/Textfile.txt\",'r') as file:\n",
    "    lines = file.readlines()\n",
    "    print(lines)"
   ]
  },
  {
   "cell_type": "code",
   "execution_count": 33,
   "id": "8533d3d9",
   "metadata": {},
   "outputs": [
    {
     "name": "stdout",
     "output_type": "stream",
     "text": [
      "30\n"
     ]
    }
   ],
   "source": [
    "import json\n",
    "x = '{\"name\":\"John\", \"age\":30,\"city\":\"New York\"}'\n",
    "y = json.loads(x)\n",
    "print(y[\"age\"])"
   ]
  },
  {
   "cell_type": "code",
   "execution_count": 34,
   "id": "f10fff89",
   "metadata": {},
   "outputs": [
    {
     "name": "stdout",
     "output_type": "stream",
     "text": [
      "\"{\\\"name\\\":\\\"John\\\", \\\"age\\\":30,\\\"city\\\":\\\"New York\\\"}\"\n"
     ]
    }
   ],
   "source": [
    "y = json.dumps(x)\n",
    "print(y)"
   ]
  },
  {
   "cell_type": "code",
   "execution_count": null,
   "id": "6a72406e",
   "metadata": {},
   "outputs": [],
   "source": []
  }
 ],
 "metadata": {
  "kernelspec": {
   "display_name": "Python 3 (ipykernel)",
   "language": "python",
   "name": "python3"
  },
  "language_info": {
   "codemirror_mode": {
    "name": "ipython",
    "version": 3
   },
   "file_extension": ".py",
   "mimetype": "text/x-python",
   "name": "python",
   "nbconvert_exporter": "python",
   "pygments_lexer": "ipython3",
   "version": "3.9.12"
  }
 },
 "nbformat": 4,
 "nbformat_minor": 5
}
